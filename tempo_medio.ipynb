{
 "cells": [
  {
   "cell_type": "code",
   "execution_count": 33,
   "id": "025102be",
   "metadata": {},
   "outputs": [],
   "source": [
    "import pandas as pd\n",
    "import numpy as np"
   ]
  },
  {
   "cell_type": "code",
   "execution_count": 34,
   "id": "8174ff1a",
   "metadata": {},
   "outputs": [],
   "source": [
    "df_temposv = pd.read_csv('datasets/df_temposv.csv', index_col = 'Unnamed: 0')\n",
    "df_tempost = pd.read_csv('datasets/df_tempost.csv', index_col = 'Unnamed: 0')\n",
    "df_temposm = pd.read_csv('datasets/df_temposm.csv', index_col = 'Unnamed: 0')"
   ]
  },
  {
   "cell_type": "code",
   "execution_count": 35,
   "id": "600a82ca",
   "metadata": {},
   "outputs": [],
   "source": [
    "df_temposv = df_temposv[[ '1', '2', '3', '4', '5']]\n",
    "df_tempost = df_tempost[[ '1', '2', '3', '4', '5']]\n",
    "df_temposm = df_temposm[[ '1', '2', '3', '4', '5']]"
   ]
  },
  {
   "cell_type": "code",
   "execution_count": 36,
   "id": "d56c492e",
   "metadata": {},
   "outputs": [],
   "source": [
    "df_temposv['tmedio'] = df_temposv.mean(axis = 1)\n",
    "df_tempost['tmedio'] = df_tempost.mean(axis = 1)\n",
    "df_temposm['tmedio'] = df_temposm.mean(axis = 1)"
   ]
  },
  {
   "cell_type": "code",
   "execution_count": 37,
   "id": "bbcf4a9e",
   "metadata": {},
   "outputs": [],
   "source": [
    "df_temposv.to_csv('datasets/df_temposv.csv')\n",
    "df_tempost.to_csv('datasets/df_tempost.csv')\n",
    "df_temposm.to_csv('datasets/df_temposm.csv')"
   ]
  },
  {
   "cell_type": "code",
   "execution_count": null,
   "id": "334098f1",
   "metadata": {},
   "outputs": [],
   "source": []
  }
 ],
 "metadata": {
  "kernelspec": {
   "display_name": "Python 3 (ipykernel)",
   "language": "python",
   "name": "python3"
  },
  "language_info": {
   "codemirror_mode": {
    "name": "ipython",
    "version": 3
   },
   "file_extension": ".py",
   "mimetype": "text/x-python",
   "name": "python",
   "nbconvert_exporter": "python",
   "pygments_lexer": "ipython3",
   "version": "3.8.10"
  }
 },
 "nbformat": 4,
 "nbformat_minor": 5
}
