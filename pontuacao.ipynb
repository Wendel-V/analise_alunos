{
 "cells": [
  {
   "cell_type": "code",
   "execution_count": 15,
   "id": "b425911d",
   "metadata": {},
   "outputs": [],
   "source": [
    "import numpy as np\n",
    "import pandas as pd"
   ]
  },
  {
   "cell_type": "code",
   "execution_count": 90,
   "id": "4e084634",
   "metadata": {},
   "outputs": [],
   "source": [
    "df_perguntasv = pd.read_csv('datasets/df_perguntasv.csv', index_col = 'Unnamed: 0')\n",
    "df_perguntast = pd.read_csv('datasets/df_perguntast.csv', index_col = 'Unnamed: 0')\n",
    "df_perguntasm = pd.read_csv('datasets/df_perguntasm.csv', index_col = 'Unnamed: 0')"
   ]
  },
  {
   "cell_type": "code",
   "execution_count": 106,
   "id": "e0b3b2be",
   "metadata": {},
   "outputs": [],
   "source": [
    "# Pontuação dos alunos\n",
    "\n",
    "\n",
    "\n",
    "# VIDEO\n",
    "\n",
    "scores = []\n",
    "for aluno in range(0, df_perguntasv.shape[0]):\n",
    "    score = 0\n",
    "    if df_perguntasv.iloc[aluno][0] == 3 : score += 1\n",
    "    if df_perguntasv.iloc[aluno][1] == 2 : score += 1\n",
    "    if df_perguntasv.iloc[aluno][2] == 1 : score += 1\n",
    "    if df_perguntasv.iloc[aluno][3] == 1 : score += 1\n",
    "    if df_perguntasv.iloc[aluno][4] == 3 : score += 1\n",
    "    if df_perguntasv.iloc[aluno][5] == 2 : score += 1\n",
    "    if df_perguntasv.iloc[aluno][6] == 1 : score += 1\n",
    "    if df_perguntasv.iloc[aluno][7] == 3 : score += 1\n",
    "    if df_perguntasv.iloc[aluno][8] == 2 : score += 1\n",
    "    if df_perguntasv.iloc[aluno][9] == 'c' : score += 1\n",
    "    if df_perguntasv.iloc[aluno][10] =='a' : score += 1\n",
    "    scores.append(score)\n",
    "\n",
    "scores = pd.DataFrame(scores, columns = ['pont'])\n",
    "\n",
    "df_perguntasv = pd.concat([df_perguntasv, scores], axis = 1)\n",
    "\n",
    "\n",
    "\n",
    "\n",
    "# TEXTO\n",
    "\n",
    "scores = []\n",
    "for aluno in range(0, df_perguntast.shape[0]):\n",
    "    score = 0\n",
    "    if df_perguntast.iloc[aluno][0] == 3 : score += 1\n",
    "    if df_perguntast.iloc[aluno][1] == 2 : score += 1\n",
    "    if df_perguntast.iloc[aluno][2] == 1 : score += 1\n",
    "    if df_perguntast.iloc[aluno][3] == 1 : score += 1\n",
    "    if df_perguntast.iloc[aluno][4] == 3 : score += 1\n",
    "    if df_perguntast.iloc[aluno][5] == 2 : score += 1\n",
    "    if df_perguntast.iloc[aluno][6] == 1 : score += 1\n",
    "    if df_perguntast.iloc[aluno][7] == 3 : score += 1\n",
    "    if df_perguntast.iloc[aluno][8] == 2 : score += 1\n",
    "    if df_perguntast.iloc[aluno][9] == 'c' : score += 1\n",
    "    if df_perguntast.iloc[aluno][10] =='a' : score += 1\n",
    "    scores.append(score)\n",
    "\n",
    "scores = pd.DataFrame(scores, columns = ['pont'])\n",
    "\n",
    "df_perguntast = pd.concat([df_perguntast, scores], axis = 1)\n",
    "\n",
    "\n",
    "\n",
    "\n",
    "# MAPA MENTAL\n",
    "\n",
    "scores = []\n",
    "for aluno in range(0, df_perguntasm.shape[0]):\n",
    "    score = 0\n",
    "    if df_perguntasm.iloc[aluno][0] == 3 : score += 1\n",
    "    if df_perguntasm.iloc[aluno][1] == 2 : score += 1\n",
    "    if df_perguntasm.iloc[aluno][2] == 1 : score += 1\n",
    "    if df_perguntasm.iloc[aluno][3] == 1 : score += 1\n",
    "    if df_perguntasm.iloc[aluno][4] == 3 : score += 1\n",
    "    if df_perguntasm.iloc[aluno][5] == 2 : score += 1\n",
    "    if df_perguntasm.iloc[aluno][6] == 1 : score += 1\n",
    "    if df_perguntasm.iloc[aluno][7] == 3 : score += 1\n",
    "    if df_perguntasm.iloc[aluno][8] == 2 : score += 1\n",
    "    if df_perguntasm.iloc[aluno][9] == 'c' : score += 1\n",
    "    if df_perguntasm.iloc[aluno][10] =='a' : score += 1\n",
    "    scores.append(score)\n",
    "\n",
    "scores = pd.DataFrame(scores, columns = ['pont'])\n",
    "\n",
    "df_perguntasm = pd.concat([df_perguntasm, scores], axis = 1)\n",
    "\n",
    "\n",
    "df_perguntasv.to_csv('datasets/df_perguntasv.csv')\n",
    "df_perguntast.to_csv('datasets/df_perguntast.csv')\n",
    "df_perguntasm.to_csv('datasets/df_perguntasm.csv')"
   ]
  },
  {
   "cell_type": "code",
   "execution_count": 96,
   "id": "5cd5a15b",
   "metadata": {},
   "outputs": [],
   "source": []
  },
  {
   "cell_type": "code",
   "execution_count": 97,
   "id": "a22b081d",
   "metadata": {},
   "outputs": [],
   "source": [
    "\n"
   ]
  },
  {
   "cell_type": "code",
   "execution_count": 105,
   "id": "f8e23f20",
   "metadata": {},
   "outputs": [],
   "source": []
  },
  {
   "cell_type": "code",
   "execution_count": null,
   "id": "380cf1d9",
   "metadata": {},
   "outputs": [],
   "source": []
  }
 ],
 "metadata": {
  "kernelspec": {
   "display_name": "Python 3 (ipykernel)",
   "language": "python",
   "name": "python3"
  },
  "language_info": {
   "codemirror_mode": {
    "name": "ipython",
    "version": 3
   },
   "file_extension": ".py",
   "mimetype": "text/x-python",
   "name": "python",
   "nbconvert_exporter": "python",
   "pygments_lexer": "ipython3",
   "version": "3.8.10"
  }
 },
 "nbformat": 4,
 "nbformat_minor": 5
}
