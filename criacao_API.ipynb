{
 "cells": [
  {
   "cell_type": "code",
   "execution_count": 11,
   "id": "4e3ecf9d",
   "metadata": {},
   "outputs": [],
   "source": [
    "import numpy as np\n",
    "from flask import Flask, request, jsonify\n",
    "import pickle\n",
    "import os\n",
    "\n",
    "app = Flask(__name__)"
   ]
  },
  {
   "cell_type": "code",
   "execution_count": 12,
   "id": "27959433",
   "metadata": {},
   "outputs": [],
   "source": [
    "modelo = pickle.load(open('modelo_XGBoost.pk1', 'rb'))"
   ]
  },
  {
   "cell_type": "code",
   "execution_count": 13,
   "id": "2cc6c8d5",
   "metadata": {},
   "outputs": [],
   "source": [
    "@app.route(\"/\")\n",
    "\n",
    "def verifica_api_online():\n",
    "    return 'API ONLINE v1.0', 200\n",
    "    "
   ]
  },
  {
   "cell_type": "code",
   "execution_count": 14,
   "id": "e60b85cf",
   "metadata": {},
   "outputs": [],
   "source": [
    "@app.route('/predict', methods = ['POST'])\n",
    "\n",
    "def predict():\n",
    "    dados = request.get_json(force=True)\n",
    "    predicao = modelo.predict(np.array([list(dados.values())]))\n",
    "    resultado = predicao[0]\n",
    "    \n",
    "    resposta = {'TIPO': int(resultado)}\n",
    "    return jsonify(resposta)"
   ]
  },
  {
   "cell_type": "code",
   "execution_count": null,
   "id": "9d5f8e68",
   "metadata": {
    "scrolled": true
   },
   "outputs": [
    {
     "name": "stdout",
     "output_type": "stream",
     "text": [
      " * Serving Flask app '__main__' (lazy loading)\n",
      " * Environment: production\n",
      "\u001b[31m   WARNING: This is a development server. Do not use it in a production deployment.\u001b[0m\n",
      "\u001b[2m   Use a production WSGI server instead.\u001b[0m\n",
      " * Debug mode: off\n"
     ]
    },
    {
     "name": "stderr",
     "output_type": "stream",
     "text": [
      " * Running on all addresses.\n",
      "   WARNING: This is a development server. Do not use it in a production deployment.\n",
      " * Running on http://192.168.0.116:5000/ (Press CTRL+C to quit)\n",
      "192.168.0.116 - - [06/Jul/2022 20:33:18] \"GET / HTTP/1.1\" 200 -\n",
      "192.168.0.116 - - [06/Jul/2022 20:33:19] \"GET /favicon.ico HTTP/1.1\" 404 -\n"
     ]
    }
   ],
   "source": [
    "if __name__ == \"__main__\":\n",
    "  port = int(os.environ.get(\"PORT\", 5000))\n",
    "  app.run(host='0.0.0.0', port=port)"
   ]
  },
  {
   "cell_type": "code",
   "execution_count": null,
   "id": "d9d111fb",
   "metadata": {},
   "outputs": [],
   "source": []
  }
 ],
 "metadata": {
  "kernelspec": {
   "display_name": "Python 3 (ipykernel)",
   "language": "python",
   "name": "python3"
  },
  "language_info": {
   "codemirror_mode": {
    "name": "ipython",
    "version": 3
   },
   "file_extension": ".py",
   "mimetype": "text/x-python",
   "name": "python",
   "nbconvert_exporter": "python",
   "pygments_lexer": "ipython3",
   "version": "3.8.10"
  }
 },
 "nbformat": 4,
 "nbformat_minor": 5
}
